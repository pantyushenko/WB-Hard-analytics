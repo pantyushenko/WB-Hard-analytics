{
 "cells": [
  {
   "cell_type": "markdown",
   "metadata": {},
   "source": [
    "# Решение задач по статистике\n",
    "\n",
    "\n",
    "\n"
   ]
  },
  {
   "cell_type": "markdown",
   "metadata": {},
   "source": [
    "## Задача 1\n",
    "Имеется выборка напряжений батареек:\n",
    "```\n",
    "12.9, 11.6, 13.5, 13.9, 12.1, 11.9, 13.0\n",
    "```\n",
    "Нужно проверить, можно ли считать, что истинное среднее напряжение равно 12 В.\n",
    "\n",
    "H0: $\\mu = 12$ В\n",
    "H1: $\\mu \\neq 12$ В\n"
   ]
  },
  {
   "cell_type": "code",
   "execution_count": null,
   "metadata": {},
   "outputs": [],
   "source": [
    "import numpy as np\n",
    "from scipy import stats\n",
    "\n",
    "sample = np.array([12.9, 11.6, 13.5, 13.9, 12.1, 11.9, 13.0])\n",
    "mu0 = 12\n",
    "\n",
    "res = stats.ttest_1samp(sample, mu0)\n",
    "res"
   ]
  },
  {
   "cell_type": "markdown",
   "metadata": {},
   "source": [
    "Интерпретация: если p-value < 0.05, то мы отвергаем H0. Иначе – не отвергаем."
   ]
  },
  {
   "cell_type": "markdown",
   "metadata": {},
   "source": [
    "## Задача 2\n",
    "Есть два метода определения процентного содержания жира. Даны парные измерения для 10 образцов. Проверить, есть ли значимая разница между методами.\n",
    "\n",
    "H0: средние равны\n",
    "H1: средние отличаются\n"
   ]
  },
  {
   "cell_type": "code",
   "execution_count": null,
   "metadata": {},
   "outputs": [],
   "source": [
    "method1 = np.array([23.1,23.2,26.5,26.6,27.1,48.3,40.5,25.0,38.4,23.5])\n",
    "method2 = np.array([22.7,23.6,27.1,27.4,27.4,46.8,40.4,24.9,38.1,23.8])\n",
    "\n",
    "res2 = stats.ttest_rel(method1, method2)\n",
    "res2"
   ]
  },
  {
   "cell_type": "markdown",
   "metadata": {},
   "source": [
    "Если p-value < 0.05, методы статистически значимо отличаются."
   ]
  },
  {
   "cell_type": "markdown",
   "metadata": {},
   "source": [
    "## Задача 3\n",
    "Имеются две независимые выборки:\n",
    "- Горожане: [132, 111, 119, 138, 200, 131, 138, 170, 159, 140]\n",
    "- Селяне: [115, 190, 127, 155, 148, 121, 116, 121, 197]\n",
    "\n",
    "H0: среднее давление одинаково\n",
    "H1: среднее давление у горожан выше, чем у селян\n",
    "\n",
    "Сначала применим двусторонний t-тест, а затем при необходимости преобразуем в односторонний."
   ]
  },
  {
   "cell_type": "code",
   "execution_count": null,
   "metadata": {},
   "outputs": [],
   "source": [
    "city = np.array([132, 111, 119, 138, 200, 131, 138, 170, 159, 140])\n",
    "rural = np.array([115, 190, 127, 155, 148, 121, 116, 121, 197])\n",
    "\n",
    "# Используем t-тест для независимых выборок.\n",
    "# equal_var=False для учета возможной разной дисперсии (тест Уэлча)\n",
    "res3 = stats.ttest_ind(city, rural, equal_var=False)\n",
    "res3"
   ]
  },
  {
   "cell_type": "markdown",
   "metadata": {},
   "source": [
    "Для односторонней проверки (город > село), если `city.mean()` действительно больше `rural.mean()`, можно взять p-value/2.\n",
    "Если (p-value/2 < 0.05) и `mean(city) > mean(rural)`, то H1 подтверждается."
   ]
  },
  {
   "cell_type": "code",
   "execution_count": null,
   "metadata": {},
   "outputs": [],
   "source": [
    "p_two_sided = res3.pvalue\n",
    "print(\"p-value двустороннее:\", p_two_sided)\n",
    "if city.mean() > rural.mean():\n",
    "    p_one_sided = p_two_sided/2\n",
    "else:\n",
    "    p_one_sided = 1 - p_two_sided/2\n",
    "\n",
    "print(\"p-value одностороннее:\", p_one_sided)\n",
    "print(\"Среднее город:\", city.mean(), \", Среднее село:\", rural.mean())"
   ]
  },
  {
   "cell_type": "markdown",
   "metadata": {},
   "source": [
    "## Задача 4\n",
    "Известно, что при рождении 52% мальчиков. В выборке из 5000 чел. возрастом 30-60 лет оказалось 2500 мужчин. Проверить равенство пропорций.\n",
    "\n",
    "H0: p = 0.52\n",
    "H1: p ≠ 0.52\n"
   ]
  },
  {
   "cell_type": "code",
   "execution_count": null,
   "metadata": {},
   "outputs": [],
   "source": [
    "n = 5000\n",
    "p0 = 0.52\n",
    "x = 2500  # число \"успехов\", т.е. мужчин\n",
    "phat = x/n\n",
    "se = np.sqrt(p0*(1-p0)/n)\n",
    "z = (phat - p0)/se\n",
    "p_value = 2*(1 - stats.norm.cdf(abs(z)))\n",
    "z, p_value"
   ]
  },
  {
   "cell_type": "markdown",
   "metadata": {},
   "source": [
    "Если p-value < 0.05, отвергаем H0 и считаем, что смертность неодинакова."
   ]
  },
  {
   "cell_type": "markdown",
   "metadata": {},
   "source": [
    "## Задача 5\n",
    "В первом исследовании разница средних (17 и 16) оказалась значима (p=0.001), во втором – разница средних (17 и 36) незначима (p=0.8).\n",
    "\n",
    "Объяснение: Значимость разницы определяется не только разницей средних, но и дисперсией выборок, их объемом и прочими условиями. В первом случае, вероятно, малая дисперсия и/или большой объем выборки привели к тому, что даже небольшая разница стала статистически значимой. Во втором случае, большая вариабельность или малый размер выборок могли привести к тому, что даже большая разница средних не оказалась статистически значимой.\n"
   ]
  }
 ],
 "metadata": {
  "kernelspec": {
   "display_name": "Python 3 (ipykernel)",
   "language": "python",
   "name": "python3"
  },
  "language_info": {
   "codemirror_mode": {
    "name": "ipython",
    "version": 3
   },
   "file_extension": ".py",
   "mimetype": "text/x-python",
   "name": "python",
   "nbconvert_exporter": "python",
   "pygments_lexer": "ipython3",
   "version": "3.11.8"
  }
 },
 "nbformat": 4,
 "nbformat_minor": 4
}
